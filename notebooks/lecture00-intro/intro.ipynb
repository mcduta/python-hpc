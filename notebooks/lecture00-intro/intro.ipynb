{
 "cells": [
  {
   "cell_type": "markdown",
   "metadata": {
    "nbpresent": {
     "id": "57cd22b6-5791-4f3c-83bd-bb116c7d241b"
    },
    "slideshow": {
     "slide_type": "slide"
    }
   },
   "source": [
    "# Python for High Performance Computing\n",
    "# Introduction\n",
    "<hr style=\"border: solid 4px green \">\n",
    "<br>\n",
    "<center><img src=\"../../images/arc_logo.png\"; style=\"float: center; width: 20%\"></center>\n",
    "<br>\n",
    "## http://www.arc.ox.ac.uk\n",
    "## support@arc.ox.ac.uk"
   ]
  },
  {
   "cell_type": "markdown",
   "metadata": {
    "nbpresent": {
     "id": "f3cf4c42-d463-468d-826e-b79beb02d28c"
    },
    "slideshow": {
     "slide_type": "slide"
    }
   },
   "source": [
    "## What you need\n",
    "<hr style=\"border: solid 4px green\">\n",
    "\n",
    "### Intended audience\n",
    "* intermediate to advanced Python programmers who develop performance-critical applications\n",
    "<br><br>\n",
    "\n",
    "### Aims\n",
    "* explore the use of Python core packages for scientific computing\n",
    "* gain experience with a number of Python solutions for parallel processing\n",
    "<br><br>\n",
    "\n",
    "### Material\n",
    "* laptop (Windows, Linux, MacOS)\n",
    "* course material (notebooks and source code)\n",
    "* download from https://github.com/mcduta/python-hpc\n",
    "<br><br>\n",
    "\n",
    "### Software\n",
    "* Python **version 2.7**\n",
    "  * the `anaconda2` distribution is recommended (https://www.continuum.io/downloads)\n",
    "  * the Intel distribution for Python is marginally better and will be the recommendation in future\n",
    "* compilers (C and Fortran)\n",
    "  * Linux comes with `gcc`, but `gfortran` needs to be installed separately\n",
    "  * MacOS has `gcc` but that is an alias for `clang` (LLVM front-end) -- both `gcc` and `gfortran` must be installed separately\n",
    "  * Windows needs both compilers, easiest installable in `Cygwin`\n",
    "* a SSH client and an X client\n",
    "  * Linux has everything out of the box\n",
    "  * MacOS has the SSH client installed but needs the X client (*e.g.* XQuartz)\n",
    "  * Windows needs both installed (MobaXterm is recommended)"
   ]
  },
  {
   "cell_type": "markdown",
   "metadata": {
    "slideshow": {
     "slide_type": "slide"
    }
   },
   "source": [
    "## High Performance Computing\n",
    "<hr style=\"border: solid 4px green \">\n",
    "\n",
    "### Development of  scientific applications\n",
    "* make it *run*\n",
    "  * software in working state, and produces correct results\n",
    "  * explore the scientific problem and spot (major) early-stage software design issues\n",
    "* make it *right*\n",
    "  * achieve a solid software design of the program is solid\n",
    "  * separate application into independent and cohesive units that are easy to maintain\n",
    "* make it *fast*\n",
    "  * optimize the parts of the program that are not fast enough\n",
    "<br><br>\n",
    "\n",
    "### **H**igh **P**erformace **C**omputing (HPC)\n",
    "* the practice of programming and running intensive applications efficiently on performance hardware\n",
    "* applications are (usually) run in parallel and stress all three components that define performance\n",
    "  * CPU\n",
    "  * I/O\n",
    "  * network\n",
    "<br><br>\n",
    "\n",
    "### Computing performance determines the scale and complexity of the scientific numerical problems we can solve"
   ]
  },
  {
   "cell_type": "markdown",
   "metadata": {
    "slideshow": {
     "slide_type": "slide"
    }
   },
   "source": [
    "## High Performance Computing (cont'd)\n",
    "<hr style=\"border: solid 4px green \">\n",
    "\n",
    "### How fast is fast enough?\n",
    "* a PC can deliver tens of Gflops (flops = floating point operations per second) *but*\n",
    "  * tens of millions is a lot of flops but that may or may not be enough\n",
    "  * **N.B.**: theoretical peak performance $\\neq$ application performance\n",
    "<br><br>\n",
    "\n",
    "### Extreme example: short range weather forecast\n",
    "* prediction for next day(s) must be delivered in less than 1 day\n",
    "* the MetOffice current models require ~1 Pflops (= 1M x what a PC can deliver)\n",
    "* this is a few models, ensemble forecast is even more expensive\n",
    "<br><br>\n",
    "\n",
    "### More moderate examples: university research \n",
    "* materials science\n",
    "* computational physics (galaxy formation, plasma modelling)\n",
    "* earth physics (climate, oceans, earthquakes)\n",
    "* engineering (fluids, combustion, structures)\n",
    "* biochemistry (cell membrane mechanisms, drug discovery)"
   ]
  },
  {
   "cell_type": "markdown",
   "metadata": {
    "nbpresent": {
     "id": "774ac164-893a-4076-86f8-b310563d1e09"
    },
    "slideshow": {
     "slide_type": "slide"
    }
   },
   "source": [
    "## Why Python?\n",
    "<hr style=\"border: solid 4px green \">\n",
    "\n",
    "### Python is a *high level* programming language\n",
    "* conventional syntax (close to pseudocode and mathematics)\n",
    "* safe semantics (any violation produces errors)\n",
    "* supports both procedural and object-oriented programming\n",
    "* easy to prototype\n",
    "<br><br>\n",
    "\n",
    "### Python is a *high-productivity* language\n",
    "* simple to learn and use\n",
    "* you spend more time thinking about what code does rather than how to write it\n",
    "* relatively easy to do relatively hard things\n",
    "<br><br>\n",
    "\n",
    "### Python has rich *scientific computing functionality*\n",
    "* numerical and scientific libraries\n",
    "* domain-specific packages\n",
    "* powerful plotting capabilities\n",
    "* excellent for gluing existing Fortran/C/C++ code to create a processing pipeline\n",
    "<br><br>\n",
    "\n",
    "### Python has *excellent* community support"
   ]
  },
  {
   "cell_type": "markdown",
   "metadata": {
    "nbpresent": {
     "id": "9462a277-e3fa-4995-8e72-ca5eee38d406"
    },
    "slideshow": {
     "slide_type": "slide"
    }
   },
   "source": [
    "## Python and HPC\n",
    "<hr style=\"border: solid 4px green; \">\n",
    "\n",
    "### Python is <font color=green>fast</font>\n",
    "* for writing, testing and developing code\n",
    "<br><br>\n",
    "\n",
    "### Python is <font color=red>slow</font>\n",
    "* for executing research/scientific code, *espec.* repeated execution of low-level tasks\n",
    "<br><br>\n",
    "\n",
    "### Performance gap: what makes Python fast (for development) makes Python slow (for execution)\n",
    "* Python is *interpreted*\n",
    "* Python is *dynamic-typed*\n",
    "* Python is *serial*\n",
    "<br><br>\n",
    "\n",
    "### The aim of this course\n",
    "* explore ways in which the *performance gap* can be bridged"
   ]
  },
  {
   "cell_type": "markdown",
   "metadata": {
    "slideshow": {
     "slide_type": "slide"
    }
   },
   "source": [
    "## Cause #1: Python is slow because it is interpreted\n",
    "<hr style=\"border: solid 4px green; \">\n",
    "\n",
    "### \"Interpreted languages\" are slow compare with \"compiled languages\"\n",
    "* in fact, interpretation and compilation are properties of the *implementation* of a language rather than of the *language* itself\n",
    "<br><br>\n",
    "\n",
    "### Compiled languages\n",
    "* a compiler translates the source code directly into machine code\n",
    "* the machine code is directly executed by the target machine and is thus specific to\n",
    "  * a target processor\n",
    "  * an operating system\n",
    "* the compiler applies a host of optimisations in the translation to machine code\n",
    "<br><br>\n",
    "\n",
    "### Interpreted languages\n",
    "* the interpreter executes the source code\n",
    "* the interpreter is specific to\n",
    "  * a target processor\n",
    "  * an operating system\n",
    "* the interpreter has a \"narrow\" view of the source (one line at a time) and cannot apply optimisations"
   ]
  },
  {
   "cell_type": "markdown",
   "metadata": {
    "slideshow": {
     "slide_type": "slide"
    }
   },
   "source": [
    "## Cause #1: Python is slow because it is interpreted (cont'd)\n",
    "<hr style=\"border: solid 4px green; \">\n",
    "\n",
    "## How slow?\n",
    "<br><br>\n",
    "\n",
    "### A lot!\n",
    "* a pure Python implementation could be orders of magnitude slower than its Fortran or C equivalent\n",
    "* even the best pure Python implementation (using `NumPy`) can be slower\n",
    "<br><br>\n",
    "\n",
    "### Example\n",
    "Define a Python function using `NumPy` arrays (fast Python) that is bound to perform well."
   ]
  },
  {
   "cell_type": "code",
   "execution_count": 1,
   "metadata": {
    "collapsed": false
   },
   "outputs": [],
   "source": [
    "import numpy as np\n",
    "def my_func_python (x, y):\n",
    "    return np.sin (x**2 + y**2)"
   ]
  },
  {
   "cell_type": "markdown",
   "metadata": {
    "slideshow": {
     "slide_type": "slide"
    }
   },
   "source": [
    "Now, define its Fortran equivalent (using the `fortranmagic` module)."
   ]
  },
  {
   "cell_type": "code",
   "execution_count": 2,
   "metadata": {
    "collapsed": false
   },
   "outputs": [
    {
     "name": "stderr",
     "output_type": "stream",
     "text": [
      "/Users/mihai/anaconda/lib/python2.7/site-packages/IPython/utils/path.py:264: UserWarning: get_ipython_cache_dir has moved to the IPython.paths module\n",
      "  warn(\"get_ipython_cache_dir has moved to the IPython.paths module\")\n"
     ]
    },
    {
     "data": {
      "application/javascript": [
       "$.getScript(\"https://raw.github.com/marijnh/CodeMirror/master/mode/fortran/fortran.js\", function () {\n",
       "IPython.config.cell_magic_highlight['magic_fortran'] = {'reg':[/^%%fortran/]};});\n"
      ]
     },
     "metadata": {},
     "output_type": "display_data"
    }
   ],
   "source": [
    "%load_ext fortranmagic"
   ]
  },
  {
   "cell_type": "code",
   "execution_count": 3,
   "metadata": {
    "collapsed": false
   },
   "outputs": [
    {
     "name": "stdout",
     "output_type": "stream",
     "text": [
      "\n",
      "Ok. The following fortran objects are ready to use: my_func_fortran\n"
     ]
    }
   ],
   "source": [
    "%%fortran -v --opt=\"-O3\"\n",
    "       subroutine my_func_fortran (x, y, z)\n",
    "            real, intent(in) :: x(:), y(:)\n",
    "            real, intent(out) :: z(size(x))\n",
    "            ! using vector operations\n",
    "            z = sin (x**2 + y**2)\n",
    "       end subroutine"
   ]
  },
  {
   "cell_type": "markdown",
   "metadata": {
    "slideshow": {
     "slide_type": "slide"
    }
   },
   "source": [
    "And now, we time both approaches for large arrays."
   ]
  },
  {
   "cell_type": "code",
   "execution_count": 4,
   "metadata": {
    "collapsed": false
   },
   "outputs": [
    {
     "name": "stdout",
     "output_type": "stream",
     "text": [
      "1 loop, best of 3: 2.7 s per loop\n",
      "1 loop, best of 3: 1.86 s per loop\n"
     ]
    }
   ],
   "source": [
    "x = np.random.normal (size=100000000)\n",
    "y = np.random.normal (size=100000000)\n",
    "% timeit my_func_python (x, y)\n",
    "% timeit my_func_fortran (x, y)"
   ]
  },
  {
   "cell_type": "markdown",
   "metadata": {},
   "source": [
    "### The `NumPy` implementation\n",
    "* is *the best of* \"native\" Python performance\n",
    "* is slower than Fortran\n",
    "* but a pure Python implementation (no `NumPy` arrays) is even slower... a lot slower\n",
    "<br><br>\n",
    "\n",
    "### Furthermore\n",
    "* `NumPy` is limited to a single thread of execution\n",
    "* Fortran can be made even faster\n",
    "  * serial execution: extra compiler optimisation\n",
    "  * parallel execution: OpenMP threading"
   ]
  },
  {
   "cell_type": "markdown",
   "metadata": {
    "slideshow": {
     "slide_type": "slide"
    }
   },
   "source": [
    "## Cause #2: Python is dynamic\n",
    "<hr style=\"border: solid 4px green; \">\n",
    "\n",
    "### Static typing\n",
    "* type of a variable declared before the variable is used\n",
    "* type checking is done at compile time\n",
    "```c\n",
    "int num;    // explicit declaration\n",
    "num = 10;   // use the variable\n",
    "num = 10.0; // this will throw an error\n",
    "```\n",
    "<br><br>\n",
    "\n",
    "### Dynamic typing\n",
    "* type of a variables is inferred from their use\n",
    "* type checking is done at run time\n",
    "```python\n",
    "num = 10   # just use the variable\n",
    "num = 10.0 # this is valid\n",
    "```\n",
    "<br><br>\n",
    "\n",
    "### Python type-checking overhead\n",
    "* every time a variable is used there is a check\n",
    "* this overhead becomes significant in repeated operations (*e.g.* a loop)"
   ]
  },
  {
   "cell_type": "markdown",
   "metadata": {
    "slideshow": {
     "slide_type": "slide"
    }
   },
   "source": [
    "## Cause #2: Python is dynamic (cont'd)\n",
    "<hr style=\"border: solid 4px green; \">\n",
    "\n",
    "### Python treats every variable and function call like a box of chocolates\n",
    "* you never know what you're gonna get\n",
    "* so checks are applied at all steps\n",
    "<br><br>\n",
    "\n",
    "### A simple integer addition\n",
    "```python\n",
    ">>> 1+2\n",
    "3\n",
    "```\n",
    "\n",
    "### is interpreted and executed as follows\n",
    "* the operation\n",
    "\n",
    "<table border=\"0\">\n",
    "  <tr>\n",
    "    <th><img src=\"./images/pyobj1.png\"; style=\"float: center; width: 3cm\"><th>\n",
    "    <th><font size=\"10\">+</font></th>\n",
    "    <th><img src=\"./images/pyobj2.png\"; style=\"float: center; width: 3cm\"><th>\n",
    "  </tr>\n",
    "</table>\n",
    "\n",
    "* is operand 1 of same type as operand 2?\n",
    "  * yes: try to do something with them\n",
    "    * is the operation requested valid and callable?\n",
    "      * yes: call \"add\" on the two integer arguments and generate a new Python object to contain the result\n",
    "      <img src=\"./images/pyobj3.png\"; style=\"float: center; width: 3cm\">\n",
    "      * no: throw an error\n",
    "  * no: throw an error\n",
    "<br><br>\n",
    "\n",
    "### Interpreted computing is safe but there is a lot of overhead!"
   ]
  },
  {
   "cell_type": "markdown",
   "metadata": {
    "slideshow": {
     "slide_type": "slide"
    }
   },
   "source": [
    "## Cause #2: Python is dynamic (cont'd)\n",
    "<hr style=\"border: solid 4px green; \">\n",
    "\n",
    "### A simple function call\n",
    "```python\n",
    ">>> def f(a, b):\n",
    "...    return a+b\n",
    "...\n",
    ">>> f(1, 2)\n",
    "3\n",
    "```\n",
    "\n",
    "### is executed in the following way\n",
    "* the function call\n",
    "\n",
    "<table border=\"0\">\n",
    "  <tr>\n",
    "    <th>Argument 1</th>\n",
    "    <th> </th>\n",
    "    <th>Argument 2</th>\n",
    "    <th> </th>\n",
    "    <th>Argument list</th>\n",
    "    <th> </th>\n",
    "    <th>Function Object</th>\n",
    "    <th> </th>\n",
    "    <th>Return object</th>\n",
    "  </tr>\n",
    "  <tr>\n",
    "    <td><img src=\"./images/pyobj1.png\"; style=\"float: center; width: 3cm\"></td>\n",
    "    <td><font size=\"10\">,</font></td>\n",
    "    <td><img src=\"./images/pyobj2.png\"; style=\"float: center; width: 3cm\"></td>\n",
    "    <td><font size=\"10\">></font></td>\n",
    "    <td><img src=\"./images/pyobj5.png\"; style=\"float: center; width: 3cm\"></td>\n",
    "    <td><font size=\"10\">></font></td>\n",
    "    <td><img src=\"./images/pyobj6.png\"; style=\"float: center; width: 3cm\"></td>\n",
    "    <td><font size=\"10\">></font></td>\n",
    "    <td><img src=\"./images/pyobj3.png\"; style=\"float: center; width: 3cm\"></td>\n",
    "  </tr>\n",
    "</table>\n",
    "\n",
    "\n",
    "* is `f` a callable object?\n",
    "  * yes\n",
    "    * form list from arguments\n",
    "    * pass argument list to callable\n",
    "    * the callable object unpacks the argument list and applies code (see previous slide)\n",
    "    * if successful, form new object and return it\n",
    "  * no: throw an error\n",
    "<br><br>\n",
    "\n",
    "### Function call is safe but there is a lot of overhead!\n",
    "* more than C or Fortran function calls, that is"
   ]
  },
  {
   "cell_type": "markdown",
   "metadata": {
    "slideshow": {
     "slide_type": "slide"
    }
   },
   "source": [
    "## Cause #2: Python is dynamic (cont'd)\n",
    "<hr style=\"border: solid 4px green; \">\n",
    "\n",
    "### Function call overhead can be measured"
   ]
  },
  {
   "cell_type": "code",
   "execution_count": 5,
   "metadata": {
    "collapsed": false
   },
   "outputs": [
    {
     "name": "stdout",
     "output_type": "stream",
     "text": [
      "time (no function call) =  0.0657330036163 sec\n",
      "time (function call)    =  0.191447997093 sec\n",
      "function call overhead  =  125.714993477 nsec\n"
     ]
    }
   ],
   "source": [
    "import time\n",
    "\n",
    "def f():\n",
    "    pass # null operation: do nothing\n",
    "\n",
    "n = 10**6 # a large number of times\n",
    "npass = 10\n",
    "\n",
    "t1 = time.time()\n",
    "for ipass in xrange (npass):\n",
    "    for i in xrange (n):\n",
    "        pass\n",
    "t1 = time.time() - t1\n",
    "t1/= float (npass)\n",
    "print \"time (no function call) = \", t1, \"sec\"\n",
    "\n",
    "t2 = time.time()\n",
    "for ipass in xrange (npass):\n",
    "    for i in xrange (n):\n",
    "        f()\n",
    "t2 = time.time() - t2\n",
    "t2/= float(npass)\n",
    "print \"time (function call)    = \", t2, \"sec\"\n",
    "print \"function call overhead  = \", (t2-t1) / float(n)*1.e+9, \"nsec\""
   ]
  },
  {
   "cell_type": "markdown",
   "metadata": {
    "slideshow": {
     "slide_type": "slide"
    }
   },
   "source": [
    "## Cause #3: Python is serial\n",
    "<hr style=\"border: solid 4px green; \">\n",
    "\n",
    "### The culprit\n",
    "The **G**lobal **I**nterpreter **L**ock (GIL) is a major limitation of cPython\n",
    "<br><br>\n",
    "\n",
    "### GIL\n",
    "* it is a mutex = a **m**utual **ex**clusion property in concurrency control with the purpose of preventing *race conditions*\n",
    "* it prevents native threads from executing Python bytecodes concurrently -- only a single thread can acquire a lock on a Python object or C API at any one time\n",
    "* it *is* necessary because the interpreter is not thread-safe and GIL protects access to current thread state and heap allocated objects\n",
    "* but it also prevents Python programs from taking full advantage of multiprocessor systems\n",
    "* effectively the language's most difficult technical challenge"
   ]
  },
  {
   "cell_type": "markdown",
   "metadata": {
    "slideshow": {
     "slide_type": "slide"
    }
   },
   "source": [
    "## Making Python faster\n",
    "<hr style=\"border: solid 4px green; \">\n",
    "\n",
    "### An active area of research, a jungle of solutions out there!\n",
    "<br><br>\n",
    "\n",
    "\n",
    "### There are *very* many solutions for making Python execution\n",
    "* faster in serial\n",
    "* parallel\n",
    "<br><br>\n",
    "\n",
    "### All solutions address one or more of the causes for which Python is slow"
   ]
  },
  {
   "cell_type": "markdown",
   "metadata": {
    "slideshow": {
     "slide_type": "slide"
    }
   },
   "source": [
    "## Profiling Python code\n",
    "<hr style=\"border: solid 4px green; \">\n",
    "\n",
    "### Identify what to optimise\n",
    "Performance-critical parts of Python code are identified through *profiling*.\n",
    "\n",
    "### Python tools for profiling\n",
    "* `profile` and `cProfile` modules\n",
    "  * standard run time analysis and function call stack\n",
    "  * `profile` (pure Python) has heavier overheads\n",
    "* `line_profiler` and `kernprof`\n",
    "  * a set of tools for line by line code timing\n",
    "* `memory_profiler`\n",
    "  * a tool for line by line memory code footprint\n",
    "* `IPython` timers\n",
    "  * the `timeit` function is useful for timing functions interactively\n",
    "\n",
    "> *Warning*: Python development tools (debuggers, profilers) lag behind compiled code options"
   ]
  },
  {
   "cell_type": "markdown",
   "metadata": {
    "slideshow": {
     "slide_type": "slide"
    }
   },
   "source": [
    "## Faster Python: approach #1\n",
    "<hr style=\"border: solid 4px green; \">\n",
    "\n",
    "### Make *everything* faster\n",
    "* `PyPy`\n",
    "  * fast, compliant implementation of the Python language\n",
    "  * alternative to CPython\n",
    "  * compatible with Python versions 2.7 and 3.3\n",
    "* `Nuitka`\n",
    "  * ahead-of-time compiler to generate fast executing standalone programs from Python source\n",
    "  * Python to C++ source-to-source transformation\n",
    "  * C++ source compiled and optimised\n",
    "<br><br>\n",
    "\n",
    "#### Pros\n",
    "* drop-in replacement for pure Python code\n",
    "<br><br>\n",
    "\n",
    "#### Cons\n",
    "* uncertainty about the future of the solutions\n",
    "* no perfect compatibility (*e.g.* C extensions in `PyPy`)\n",
    "* no support for some Python modules\n",
    "* no fine control over development\n",
    "* no parallelism\n",
    "\n",
    "> A comprehensive list of Python \"compilers\" at http://compilers.pydata.org/"
   ]
  },
  {
   "cell_type": "markdown",
   "metadata": {
    "slideshow": {
     "slide_type": "slide"
    }
   },
   "source": [
    "## Faster Python: approach #2\n",
    "<hr style=\"border: solid 4px green; \">\n",
    "\n",
    "### Make the *critical* parts faster\n",
    "* use the right Python module\n",
    "  * general purpose, *e.g.* `NumPy` and `SciPy`\n",
    "  * specialised modules, *e.g.* `Pandas`, `SciKits`\n",
    "* extend Python\n",
    "  * write functions in C/C++/Fortran for speed\n",
    "  * use existing C/C++/Fortran libraries for functionality\n",
    "  * extensions/libraries can be parallel, *e.g.* `NumPy` uses Intel MKL\n",
    "* parallelise Python code\n",
    "* use **J**ust **I**n **T**ime (JIT) compiling\n",
    "<br><br>\n",
    "\n",
    "#### Pros\n",
    "* fine control over the technical solution\n",
    "* potentially sustainable solution\n",
    "  * use existing software\n",
    "  * benefit from community support\n",
    "  * spread risks\n",
    "<br><br>\n",
    "\n",
    "#### Cons\n",
    "* development effort\n",
    "* requires learning new techniques"
   ]
  },
  {
   "cell_type": "markdown",
   "metadata": {
    "slideshow": {
     "slide_type": "slide"
    }
   },
   "source": [
    "## Faster Python: the easy way (staying with Python)\n",
    "<hr style=\"border: solid 4px green; \">\n",
    "\n",
    "### General good practice: use specialised Python modules\n",
    "* `NumPy` and `SciPy`\n",
    "  * contiguous array N dimensional implementation\n",
    "  * very fast for strided operations of arrays\n",
    "  * fundamental methods for scientific computing\n",
    "* `pandas`\n",
    "  * package for data frames (or tables)\n",
    "  * very fast analytics on arrays\n",
    "* `pytables`\n",
    "  * fast structured hierarchical tables (such as `hdf5`)\n",
    "  * good for out of core calculations and queries on large data\n",
    "* `scikit-learn`\n",
    "    * package for machine learning, data mining and data analysis"
   ]
  },
  {
   "cell_type": "markdown",
   "metadata": {
    "slideshow": {
     "slide_type": "slide"
    }
   },
   "source": [
    "## Faster Python: the easy way (staying with Python) cont'd\n",
    "<hr style=\"border: solid 4px green; \">\n",
    "\n",
    "### JIT compilation\n",
    "* Python code translated to machine code on the fly\n",
    "* compiler optimisations are applied\n",
    "* \"lazy\" JIT is the easiest option:\n",
    "  * functions are compiled first time they are called (slow execution)\n",
    "  * and use cached machine code at subsequent calls (fast execution)\n",
    "<br><br>\n",
    "\n",
    "### JIT compilers\n",
    "* `numba`\n",
    "  * package for Python code decorations to allow JIT compilation to native machine instructions\n",
    "* `Theano`\n",
    "  * library that allows you to define, optimise, and evaluate efficiently mathematical expressions involving multi-dimensional arrays\n",
    "  * transparent use of a GPU"
   ]
  },
  {
   "cell_type": "markdown",
   "metadata": {
    "slideshow": {
     "slide_type": "slide"
    }
   },
   "source": [
    "## Faster Python: the easy way (staying with Python) cont'd\n",
    "<hr style=\"border: solid 4px green; \">\n",
    "\n",
    "### Other options\n",
    "* `Cython`\n",
    "  * Python compiler (Python code to standalone executable)\n",
    "  * decorate performance critical Python functions\n",
    "  * generate tuned C code, then compiled to library of functions usable from Python\n",
    "  * a very maintainable solution, easily links to other (hand-written) C/C++/Fortran code\n",
    "  * easy to multi-thread using OpenMP\n",
    "  * by far the preferred tool today\n",
    "* `multiprocess`\n",
    "  * launches and controls concurrent processes on a single host"
   ]
  },
  {
   "cell_type": "markdown",
   "metadata": {
    "slideshow": {
     "slide_type": "slide"
    }
   },
   "source": [
    "## Faster Python: the hard way\n",
    "<hr style=\"border: solid 4px green; \">\n",
    "\n",
    "### Writing C/C++/Fortran functionality\n",
    "* the `ctypes` package\n",
    "  * hand-write C functions and wrap them for Python\n",
    "* the `f2py` tool\n",
    "  * hand-wite Fortran functions and wrap them for Python\n",
    "* SWIG (**S**implified **W**rapper and **I**nterface **G**enerator)\n",
    "  * generates Python modules from C/C++ code starting from header files\n",
    "<br><br>\n",
    "\n",
    "### Scaling Python beyond a single host (distributed computing libraries)\n",
    "* `mpi4py` -- MPI Python wrapper (fastest and most complete)\n",
    "* `disco` -- Python Hadoop-like framework\n",
    "* `pathos` -- framework for computing on heterogeneous resources\n",
    "* Global Arrays bindings -- a shared memory interface to distributed computing\n",
    "<br><br>\n",
    "\n",
    "### Domain specific libraries\n",
    "* `petsc4py` -- Python bindings for PETSc (**P**ortable, **E**xtensible **T**oolkit for **S**cientific **c**omputations)\n",
    "* `slepc4py`-- Python bindings for SLEPc (**S**calable **L**ibrary for **E**igenvalue **P**roblem **c**omputations)\n",
    "* `tao4py` -- Python bindings for large-scale optimisation problems using TAO (**T**oolkit for **A**dvanced **O**ptimization)\n",
    "* `pyTrilinos`: Trilinos wrappers"
   ]
  },
  {
   "cell_type": "markdown",
   "metadata": {
    "nbpresent": {
     "id": "82e5f835-e7d2-4b3d-8d1a-47802ddb8237"
    },
    "slideshow": {
     "slide_type": "slide"
    }
   },
   "source": [
    "## This course will cover\n",
    "<hr style=\"border: solid 4px green\">\n",
    "\n",
    "### Day 1: focus on <span style=\"font-family: Courier New, Courier, monospace;\">NumPy</span> and serial solutions\n",
    "* `numpy`\n",
    "  * tools for manipulating arrays\n",
    "* `scipy`\n",
    "  * high-level scientific routines for common algorithms,\n",
    "    *e.g.* numerical integration, optimisation, Fourier transform\n",
    "* `matplotlib`\n",
    "  * plotting in 2D and 3D\n",
    "* serial code acceleration\n",
    "  * `numpy`\n",
    "  * `numba`\n",
    "  * `ctypes` (C source)\n",
    "  * `f2py` (Fortran source)\n",
    "  * other tools (`numpy.blitz`, `numpy.inline`, `numba`)\n",
    "* multithreading\n",
    "  * `numba`\n",
    "<br><br>\n",
    "\n",
    "### Day 2: focus on parallel solutions\n",
    "* multithreading C/Fortran source\n",
    "  * combining `ctypes` and `f2py` with OpenMP\n",
    "* `cython`\n",
    "* `multiprocessing`\n",
    "  * multicore task parallelism\n",
    "* `mpi4pi`\n",
    "  * **M**essage **P**assing **I**nterface (MPI) parallel programming"
   ]
  },
  {
   "cell_type": "markdown",
   "metadata": {
    "slideshow": {
     "slide_type": "slide"
    }
   },
   "source": [
    "## Test problems\n",
    "<hr style=\"border: solid 4px green; \">\n",
    "\n",
    "### Calculation of the p-norm of a vector\n",
    "<br><br>\n",
    "\n",
    "### Trapezium integration\n",
    "<br><br>\n",
    "\n",
    "### Monte--Carlo integration\n",
    "<br><br>\n",
    "\n",
    "### The 2D heat equation"
   ]
  },
  {
   "cell_type": "markdown",
   "metadata": {
    "slideshow": {
     "slide_type": "slide"
    }
   },
   "source": [
    "## Calculation of the p-norm of a vector\n",
    "<hr style=\"border: solid 4px green; \">\n",
    "\n",
    "The $p$-norm of a vector $x$ is\n",
    "$$\n",
    "||x||_p =\\left( \\sum_{i=1}^{n} |x_i|^p \\right)^{\\frac{1}{p}}\n",
    "$$\n",
    "<br>\n",
    "* a generalisation of the Euclidian norm ($p=2$)\n",
    "* $p=3$ makes computation expensive and comparison of implementations meaningful"
   ]
  },
  {
   "cell_type": "markdown",
   "metadata": {
    "slideshow": {
     "slide_type": "slide"
    }
   },
   "source": [
    "## Monte--Carlo integration\n",
    "<hr style=\"border: solid 4px green; \">\n",
    "\n",
    "### Computing $\\pi$ using Monte-Carlo integration\n",
    "Computing high-dimensional definite integrals with complicated boundaries was the first use of the Monte-Carlo method.  Using this approach, $\\pi$ can be computed as the surface integral over the unit circle of a constant unit integrand.\n",
    "\n",
    "The algorithm of computing $\\pi$ is the area of the unit circle in the 2D plane is to \"throw darts\" and to count those that fall in the circle.  More specifically,\n",
    "* generate a number of $N$ (uniformly distributed) points in the 2D plane ;\n",
    "* count the number $N_{\\text{in}}$ of points in the unit circle;\n",
    "* compute the approximation as $\\pi\\approx N/N_{\\text{in}}$.\n",
    "\n",
    "Exploiting the symmetry of the unit circle, only the area of a single quadrant of the circle can be computer.  Thus, the random points are generated with coordinates in the $[0, 1)$ interval and the estimated value of $pi$ is\n",
    "$$\n",
    "\\pi_{approx} = 4 \\frac{N}{N_{\\text{in}}} \\longrightarrow \\pi \\ \\ \\ \\ \\ \\ \\ \\ \\ \\ \\text{as} \\ \\ \\ \\ \\ \\ \\ N \\longrightarrow \\infty\n",
    "$$\n",
    "\n",
    "<img src=\"./images/darts.png\"; style=\"float: center; width: 60%\"; >\n",
    "\n",
    "> *Observation*: the estimated value converges to $\\pi$ very slowly with $N$>"
   ]
  },
  {
   "cell_type": "markdown",
   "metadata": {
    "slideshow": {
     "slide_type": "slide"
    }
   },
   "source": [
    "## Test problems\n",
    "<hr style=\"border: solid 4px green; \">\n",
    "\n",
    "### Integration by the trapezium rule\n",
    "You are asked to evaluate a definite integral using the trapezium rule.  The integral is\n",
    "$$\n",
    "\\int_{0}^{\\sqrt{\\pi}} x\\cdot \\sin x^2\\ dx \\ =\\ \\left. -\\frac{1}{2}\\cdot \\cos{x^2} \\right|^\\sqrt{\\pi}_{0} \\ =\\ 1\n",
    "$$\n",
    "\n",
    "The trapezium rule for evaluating the integral\n",
    "$$\n",
    "\\int_{a}^{b} f(x) dx\n",
    "$$\n",
    "of a continuous function $f$ approximates the area between the graph of $f(x)$ and the $x$-axis as a series of trapeziums.  Thus, the value of the integral is simply approximated as the sum of the areas of the trapeziums.\n",
    "\n",
    "Assuming the interval $x \\in [a, b]$ is discretised using $N$ intervals of equally spaced points of length $h=(b-a)/N$, the vertices of the trapeziums on the $x$-axis are given by\n",
    "$$\n",
    "x_i\\ =\\ a + i\\cdot h,\\ \\ \\ \\ i=0,\\dots,N\n",
    "$$\n",
    "\n",
    "The areas of the trapeziums formed by $x_{i}$, $x_{i+1}$ and $f(x_{i})$, $f(x_{i+1})$ add up to\n",
    "$$\n",
    "\\int_{a}^{b} f(x) dx \\approx \\sum_{0}^{N-1} \\frac{h\\cdot ( f(x_{i}) + f(x_{i+1}) )}{2} = h\\cdot \\left( \\frac{f(a)}{2} + f(x_1) + f(x_2) + \\dots + f(x_{N-1}) + \\frac{f(b)}{2} \\right)\n",
    "$$\n",
    "\n",
    "<img src=\"./images/integral.png\"; style=\"float: center; width: 60%\"; >"
   ]
  },
  {
   "cell_type": "markdown",
   "metadata": {
    "slideshow": {
     "slide_type": "slide"
    }
   },
   "source": [
    "## The 2D heat equation\n",
    "<hr style=\"border: solid 4px green; \">\n",
    "\n",
    "### The maths\n",
    "The problem is to find the time-varying temperature distribution across a plate given an initial distribution and a fixed temperature around the edges.  Mathematically, this means solving the equation\n",
    "\n",
    "$$\\frac{\\partial u}{\\partial t}=\\frac{\\partial^2 u}{\\partial x^2}+\\frac{\\partial^2 u}{\\partial y^2}$$\n",
    "\n",
    "subject to\n",
    "* the initial condition $u(x,y,0)=u_0(x,y)$ and\n",
    "* the boundary condition $u(x,y,t)=0$ on the boundary.\n",
    "\n",
    "Assume the domain of the physical problem to be the unit square $0\\leq x,y\\leq 1$ with the initial conditions\n",
    "\n",
    "$$u_0(x,y)=\\sin\\pi x\\cdot\\sin\\pi y$$\n",
    "\n",
    "With the above, the analytic solution to the mathematical problem is\n",
    "\n",
    "$$u(x,y,t)=\\sin\\pi x\\cdot\\sin\\pi y\\cdot e^{-2\\pi^2 t}$$\n",
    "\n",
    "which is useful to validate the numerical solution in the Python implementation.\n",
    "\n",
    "### The numerical solution\n",
    "The numerical solution used in this example is via the **F**inite **D**ifference (FD) solution.  Thus, both the space coordinates $0\\leq x,y\\leq 1$ and time $t\\geq 0$ are discretised and the continuous solution $u$ is approximated by a discrete equivalent (an array), which is advanced in time from the initial conditions to a chosen final time value.  In summary, the FD solution means\n",
    "* sample the 2D domain at equidistant points at coordinates $x_i=i\\Delta x$ and $y_j=j\\Delta y$\n",
    "* sample time at points $t_n=n\\Delta t$\n",
    "* compute the discrete values $u^n_{i,j}$ corresponsing to the $x_i$, $y_j$ and $t_n$\n",
    "* assuming $\\Delta x=\\Delta y$, the numerical solution is produced by the *time-marching scheme*\n",
    "\n",
    "$$u^{n+1}_{i,j}=u^{n}_{i,j}+\\nu \\left( u^{n}_{i+1,j}+u^{n}_{i-1,j}+u^{n}_{i,j+1}+u^{n}_{i,j-1}\\ -\\ 4u^{n}_{i,j} \\right)$$\n",
    "\n",
    "where $\\nu=\\frac{\\Delta t}{\\Delta x^2}\\leq 0.25$ for numerical stability.\n",
    "\n",
    "This numerical scheme results in the 6 point stencil involving *each* discrete point $(i, j)$ at time $t_{n+1}$ is updated from *five* values at time $t_n$ (the same point plus its neighbours).  Diagramatically, this is represented as\n",
    "<br><br>\n",
    "\n",
    "<table border=\"0\">\n",
    "  <tr>\n",
    "    <td><center>time step $n$</center></td>\n",
    "    <td><center>time step $n+1$</center></td>\n",
    "  </tr>\n",
    "  <tr>\n",
    "    <td><img src=\"./images/untxt.png\"; style=\"float: center; width: 40%\"></td>\n",
    "    <td><img src=\"./images/unp1txt.png\"; style=\"float: center; width: 40%\"></td>\n",
    "  </tr>\n",
    "</table>\n",
    "\n",
    "### The numerical algorithm\n",
    "The algorithm is\n",
    "* start with initial conditions\n",
    "* for each time step\n",
    "  * for each space point, use current solution $u^{n}$ to compute next step $u^{n+1}$\n",
    "  * apply boundary conditions\n",
    "  * swap current solution with updated \"next-step\" solution"
   ]
  },
  {
   "cell_type": "markdown",
   "metadata": {
    "nbpresent": {
     "id": "94064e7a-5e3c-423a-97dd-158d8b337cbe"
    },
    "slideshow": {
     "slide_type": "notes"
    }
   },
   "source": [
    "<img src=\"../../images/reusematerial.png\"; style=\"float: center; width: 90\"; >"
   ]
  }
 ],
 "metadata": {
  "anaconda-cloud": {},
  "celltoolbar": "Slideshow",
  "kernelspec": {
   "display_name": "Python [Root]",
   "language": "python",
   "name": "Python [Root]"
  },
  "language_info": {
   "codemirror_mode": {
    "name": "ipython",
    "version": 2
   },
   "file_extension": ".py",
   "mimetype": "text/x-python",
   "name": "python",
   "nbconvert_exporter": "python",
   "pygments_lexer": "ipython2",
   "version": "2.7.12"
  },
  "nbpresent": {
   "slides": {
    "35bffcd3-b4de-4334-9ad9-0887d759b931": {
     "id": "35bffcd3-b4de-4334-9ad9-0887d759b931",
     "prev": "75e40703-6751-47fc-854f-3809d780b137",
     "regions": {
      "5173328f-f292-42bc-a60a-cca9bed24fe4": {
       "attrs": {
        "height": 0.8,
        "width": 0.8,
        "x": 0.1,
        "y": 0.1
       },
       "content": {
        "cell": "2b8dc15a-e909-4bb6-ac46-207ae045aad4",
        "part": "whole"
       },
       "id": "5173328f-f292-42bc-a60a-cca9bed24fe4"
      }
     }
    },
    "7311f463-df1b-4ab1-aead-326c6dec2d59": {
     "id": "7311f463-df1b-4ab1-aead-326c6dec2d59",
     "prev": "fcba4727-9041-4553-9001-45c30c96bd6e",
     "regions": {
      "418b7027-663e-40ab-b7c7-0f20f7b8b022": {
       "attrs": {
        "height": 0.8,
        "width": 0.8,
        "x": 0.1,
        "y": 0.1
       },
       "content": {
        "cell": "cbc43067-4958-4ed5-aeaf-dd0a528ac6a7",
        "part": "whole"
       },
       "id": "418b7027-663e-40ab-b7c7-0f20f7b8b022"
      }
     }
    },
    "75e40703-6751-47fc-854f-3809d780b137": {
     "id": "75e40703-6751-47fc-854f-3809d780b137",
     "prev": null,
     "regions": {
      "6a9c3635-c311-41af-bad1-0702d681f9f5": {
       "attrs": {
        "height": 0.8,
        "width": 0.8,
        "x": 0.1,
        "y": 0.1
       },
       "content": {
        "cell": "774ac164-893a-4076-86f8-b310563d1e09",
        "part": "whole"
       },
       "id": "6a9c3635-c311-41af-bad1-0702d681f9f5"
      }
     }
    },
    "baa51550-747d-44cc-a5bc-0e8a8cf40cce": {
     "id": "baa51550-747d-44cc-a5bc-0e8a8cf40cce",
     "prev": "7311f463-df1b-4ab1-aead-326c6dec2d59",
     "regions": {
      "8926fe52-bf9b-4052-80b9-9e98bbce5ca7": {
       "attrs": {
        "height": 0.8,
        "width": 0.8,
        "x": 0.1,
        "y": 0.1
       },
       "content": {
        "cell": "94064e7a-5e3c-423a-97dd-158d8b337cbe",
        "part": "whole"
       },
       "id": "8926fe52-bf9b-4052-80b9-9e98bbce5ca7"
      }
     }
    },
    "e7a719d1-59a7-49fe-81ef-e4d779658623": {
     "id": "e7a719d1-59a7-49fe-81ef-e4d779658623",
     "prev": "35bffcd3-b4de-4334-9ad9-0887d759b931",
     "regions": {
      "94f4abc2-d05e-4e7f-b75a-d235773b886d": {
       "attrs": {
        "height": 0.8,
        "width": 0.8,
        "x": 0.1,
        "y": 0.1
       },
       "content": {
        "cell": "9462a277-e3fa-4995-8e72-ca5eee38d406",
        "part": "whole"
       },
       "id": "94f4abc2-d05e-4e7f-b75a-d235773b886d"
      }
     }
    },
    "fcba4727-9041-4553-9001-45c30c96bd6e": {
     "id": "fcba4727-9041-4553-9001-45c30c96bd6e",
     "prev": "e7a719d1-59a7-49fe-81ef-e4d779658623",
     "regions": {
      "ff490621-3102-4142-aa8d-81bbbeacba7b": {
       "attrs": {
        "height": 0.8,
        "width": 0.8,
        "x": 0.1,
        "y": 0.1
       },
       "content": {
        "cell": "82e5f835-e7d2-4b3d-8d1a-47802ddb8237",
        "part": "whole"
       },
       "id": "ff490621-3102-4142-aa8d-81bbbeacba7b"
      }
     }
    }
   },
   "themes": {}
  }
 },
 "nbformat": 4,
 "nbformat_minor": 0
}
